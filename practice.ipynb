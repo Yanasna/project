{
 "cells": [
  {
   "cell_type": "code",
   "execution_count": 46,
   "id": "0be0a337-86e8-4f0f-beda-2022c386d678",
   "metadata": {},
   "outputs": [
    {
     "name": "stdin",
     "output_type": "stream",
     "text": [
      "이메일 주소를 입력하세요  : (quit 입력시 종료) 1.@net\n"
     ]
    },
    {
     "name": "stdout",
     "output_type": "stream",
     "text": [
      "무효\n"
     ]
    },
    {
     "name": "stdin",
     "output_type": "stream",
     "text": [
      "이메일 주소를 입력하세요  : (quit 입력시 종료) 1@.net\n"
     ]
    },
    {
     "name": "stdout",
     "output_type": "stream",
     "text": [
      "유효\n"
     ]
    },
    {
     "name": "stdin",
     "output_type": "stream",
     "text": [
      "이메일 주소를 입력하세요  : (quit 입력시 종료) quit\n"
     ]
    }
   ],
   "source": [
    "while True : \n",
    "    email = input(\"이메일 주소를 입력하세요  : (quit 입력시 종료)\")\n",
    "\n",
    "    if email == 'quit' :\n",
    "        break\n",
    "    else : \n",
    "        if (email.count('@') > 0) and (email.find('.') -1 == email.count('@')) : \n",
    "                print('유효')\n",
    "        else : \n",
    "                print('무효')"
   ]
  },
  {
   "cell_type": "code",
   "execution_count": 61,
   "id": "8b80a52c-a19c-40b8-b244-0ce0de5c8cb8",
   "metadata": {},
   "outputs": [
    {
     "name": "stdin",
     "output_type": "stream",
     "text": [
      "URL을 입력하세요(예 : https://www.google.com) :  https://www.dongyang.ac.kr/index.jsp\n"
     ]
    },
    {
     "name": "stdout",
     "output_type": "stream",
     "text": [
      "도메인 이름 :  dongyang.ac.kr\n",
      "도메인 이름 :  dongyang.ac.kr\n"
     ]
    }
   ],
   "source": [
    "url = input(\"URL을 입력하세요(예 : https://www.google.com) : \")\n",
    "\n",
    "i = url.split('www.')\n",
    "u = url.replace('https://www.', '')\n",
    "p = u.replace('/index.jsp', '')\n",
    "domain = i[1].replace('/index.jsp', '')\n",
    "\n",
    "print(\"도메인 이름 : \", domain)\n",
    "print(\"도메인 이름 : \", p)"
   ]
  },
  {
   "cell_type": "code",
   "execution_count": 67,
   "id": "7c319bfc-bfcf-4b86-bbe4-67c103da73ab",
   "metadata": {},
   "outputs": [
    {
     "name": "stdin",
     "output_type": "stream",
     "text": [
      "문자열을 입력하세요 :  agc\n"
     ]
    },
    {
     "name": "stdout",
     "output_type": "stream",
     "text": [
      "암호화된 문자열  :  cie\n"
     ]
    }
   ],
   "source": [
    "text= input(\"문자열을 입력하세요 : \")\n",
    "\n",
    "encrypted = []\n",
    "for char in text : \n",
    "    encrypted.append(chr(ord(char) + 2))\n",
    "    \n",
    "''.join(encrypted)\n",
    "print(\"암호화된 문자열  : \", ''.join(encrypted))"
   ]
  },
  {
   "cell_type": "code",
   "execution_count": 22,
   "id": "14ba38e2-a20f-4305-bb32-b8e5761de0a7",
   "metadata": {},
   "outputs": [
    {
     "name": "stdout",
     "output_type": "stream",
     "text": [
      "가\n"
     ]
    }
   ],
   "source": [
    "u = chr(44032) \n",
    "print(u)"
   ]
  },
  {
   "cell_type": "code",
   "execution_count": 30,
   "id": "62747f8f-9983-404d-a6bb-a9747b589def",
   "metadata": {},
   "outputs": [
    {
     "data": {
      "text/plain": [
       "['aa ', ' bb', ' cc', ' nn', ' yy', ' uu']"
      ]
     },
     "execution_count": 30,
     "metadata": {},
     "output_type": "execute_result"
    }
   ],
   "source": [
    " i = \"aa , bb, cc, nn, yy, uu\"\n",
    "\n",
    "i.split(',')\n",
    "\n"
   ]
  },
  {
   "cell_type": "code",
   "execution_count": 33,
   "id": "c27c89e4-260d-4f5d-9b31-af8f5b9cfa38",
   "metadata": {},
   "outputs": [
    {
     "data": {
      "text/plain": [
       "'1::2::3::4'"
      ]
     },
     "execution_count": 33,
     "metadata": {},
     "output_type": "execute_result"
    }
   ],
   "source": [
    "\"::\".join(\"1234\")"
   ]
  },
  {
   "cell_type": "code",
   "execution_count": 21,
   "id": "156c0f5e-533a-4291-a699-f3bf191b363c",
   "metadata": {},
   "outputs": [
    {
     "name": "stdout",
     "output_type": "stream",
     "text": [
      "여러 문장을 입력하세요(빈줄 입력시 종료)\n"
     ]
    },
    {
     "name": "stdin",
     "output_type": "stream",
     "text": [
      "문장 입력 :  Python is great\n"
     ]
    },
    {
     "name": "stdout",
     "output_type": "stream",
     "text": [
      "['Python is great']\n"
     ]
    },
    {
     "name": "stdin",
     "output_type": "stream",
     "text": [
      "문장 입력 :  \n"
     ]
    },
    {
     "name": "stdout",
     "output_type": "stream",
     "text": [
      "\n",
      "정렬된 문장 : \n",
      "Python great is\n"
     ]
    }
   ],
   "source": [
    "sentences =[]\n",
    "\n",
    "print(\"여러 문장을 입력하세요(빈줄 입력시 종료)\")\n",
    "while True  : \n",
    "    sentence = input(\"문장 입력 : \")\n",
    "    if not sentence.strip() : \n",
    "        break;\n",
    "    sentences.append(sentence)\n",
    "    print(sentences)\n",
    "    \n",
    "print(\"\\n정렬된 문장 : \")\n",
    "A = []\n",
    "for sentence in sentences : \n",
    "    A = sentence.split()\n",
    "    A.sort()\n",
    "    B = ' '.join(A)\n",
    "    print(B)"
   ]
  },
  {
   "cell_type": "code",
   "execution_count": null,
   "id": "cf5cd258-adb6-436d-a81c-ad209bb27136",
   "metadata": {},
   "outputs": [],
   "source": []
  },
  {
   "cell_type": "code",
   "execution_count": null,
   "id": "9e649f3c-ce0f-494b-9a95-66a50b4789a5",
   "metadata": {},
   "outputs": [],
   "source": []
  },
  {
   "cell_type": "code",
   "execution_count": null,
   "id": "4671d60b-0cf4-4752-974d-d8ae1f421ec0",
   "metadata": {},
   "outputs": [],
   "source": []
  }
 ],
 "metadata": {
  "kernelspec": {
   "display_name": "Python 3 (ipykernel)",
   "language": "python",
   "name": "python3"
  },
  "language_info": {
   "codemirror_mode": {
    "name": "ipython",
    "version": 3
   },
   "file_extension": ".py",
   "mimetype": "text/x-python",
   "name": "python",
   "nbconvert_exporter": "python",
   "pygments_lexer": "ipython3",
   "version": "3.12.7"
  }
 },
 "nbformat": 4,
 "nbformat_minor": 5
}
