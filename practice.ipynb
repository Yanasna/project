{
 "cells": [
  {
   "cell_type": "code",
   "execution_count": 1,
   "id": "2543a807-032b-4cce-aff2-fa3a2be6fcf9",
   "metadata": {},
   "outputs": [
    {
     "name": "stdout",
     "output_type": "stream",
     "text": [
      "여러 문장을 입력하세요(빈줄 입력시 종료)\n"
     ]
    },
    {
     "name": "stdin",
     "output_type": "stream",
     "text": [
      "문장 입력 :  씨발 왜 안됌\n"
     ]
    },
    {
     "name": "stdout",
     "output_type": "stream",
     "text": [
      "['씨발 왜 안됌']\n"
     ]
    },
    {
     "name": "stdin",
     "output_type": "stream",
     "text": [
      "문장 입력 :  \n"
     ]
    },
    {
     "name": "stdout",
     "output_type": "stream",
     "text": [
      "\n",
      "정렬된 문장 : \n",
      "씨발 안됌 왜\n"
     ]
    }
   ],
   "source": [
    "sentences =[]\n",
    "\n",
    "print(\"여러 문장을 입력하세요(빈줄 입력시 종료)\")\n",
    "while True  : \n",
    "    sentence = input(\"문장 입력 : \")\n",
    "    if not sentence.strip() : \n",
    "        break;\n",
    "    sentences.append(sentence)\n",
    "    print(sentences)\n",
    "    \n",
    "print(\"\\n정렬된 문장 : \")\n",
    "A = []\n",
    "for sentence in sentences : \n",
    "    A = sentence.split()\n",
    "    A.sort()\n",
    "    B = ' '.join(A)\n",
    "    print(B)"
   ]
  }
 ],
 "metadata": {
  "kernelspec": {
   "display_name": "Python 3 (ipykernel)",
   "language": "python",
   "name": "python3"
  },
  "language_info": {
   "codemirror_mode": {
    "name": "ipython",
    "version": 3
   },
   "file_extension": ".py",
   "mimetype": "text/x-python",
   "name": "python",
   "nbconvert_exporter": "python",
   "pygments_lexer": "ipython3",
   "version": "3.12.7"
  }
 },
 "nbformat": 4,
 "nbformat_minor": 5
}
